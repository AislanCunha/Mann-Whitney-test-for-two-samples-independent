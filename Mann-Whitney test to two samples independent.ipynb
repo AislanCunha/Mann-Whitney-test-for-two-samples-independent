{
 "cells": [
  {
   "cell_type": "markdown",
   "id": "9726e0ce",
   "metadata": {},
   "source": [
    "# Test for two samples not - normal and independent"
   ]
  },
  {
   "cell_type": "markdown",
   "id": "fe3099da",
   "metadata": {},
   "source": [
    "### First - Import the libraries"
   ]
  },
  {
   "cell_type": "code",
   "execution_count": 1,
   "id": "55be1650",
   "metadata": {},
   "outputs": [],
   "source": [
    "import scipy.stats as stats\n",
    "import pandas as pd\n",
    "import numpy as np\n",
    "from scipy.stats import mannwhitneyu"
   ]
  },
  {
   "cell_type": "markdown",
   "id": "a2232381",
   "metadata": {},
   "source": [
    "### Second - import the data"
   ]
  },
  {
   "cell_type": "code",
   "execution_count": 2,
   "id": "16c98706",
   "metadata": {},
   "outputs": [
    {
     "name": "stdout",
     "output_type": "stream",
     "text": [
      "     A    B\n",
      "0   81  129\n",
      "1   86  126\n",
      "2   82  130\n",
      "3   80  126\n",
      "4   80  124\n",
      "..  ..  ...\n",
      "95  85  124\n",
      "96  84  126\n",
      "97  89  120\n",
      "98  84  128\n",
      "99  85  129\n",
      "\n",
      "[100 rows x 2 columns]\n"
     ]
    }
   ],
   "source": [
    "df = pd.read_csv('Two_Samples_NNormal.csv')\n",
    "print(df)"
   ]
  },
  {
   "cell_type": "markdown",
   "id": "c7457ce8",
   "metadata": {},
   "source": [
    "### Trird - Test the Normality of samples"
   ]
  },
  {
   "cell_type": "code",
   "execution_count": 3,
   "id": "058df84f",
   "metadata": {},
   "outputs": [],
   "source": [
    "a = df['A']\n",
    "b = df['B']"
   ]
  },
  {
   "cell_type": "markdown",
   "id": "bbfe34b0",
   "metadata": {},
   "source": [
    "### Column A"
   ]
  },
  {
   "cell_type": "code",
   "execution_count": 4,
   "id": "e0409fd4",
   "metadata": {},
   "outputs": [
    {
     "name": "stdout",
     "output_type": "stream",
     "text": [
      "85.62\n",
      "3.116985723419345\n"
     ]
    }
   ],
   "source": [
    "average_a = np.mean(a)\n",
    "print(average_a)\n",
    "standard_deviation_a = np.std(a-1)\n",
    "print(standard_deviation_a)"
   ]
  },
  {
   "cell_type": "code",
   "execution_count": 5,
   "id": "c53d3133",
   "metadata": {},
   "outputs": [
    {
     "name": "stdout",
     "output_type": "stream",
     "text": [
      "0.12743471570442477\n",
      "0.07103053479758281\n"
     ]
    }
   ],
   "source": [
    "test_value_a, p_value_a = stats.kstest(a, cdf='norm', args=(average_a, standard_deviation_a), N=len(a))\n",
    "print(test_value_a)\n",
    "print(p_value_a)"
   ]
  },
  {
   "cell_type": "code",
   "execution_count": 6,
   "id": "99a8c788",
   "metadata": {},
   "outputs": [
    {
     "name": "stdout",
     "output_type": "stream",
     "text": [
      "The test presented with 95% confidence that the data behaved like a normal distribution.\n"
     ]
    }
   ],
   "source": [
    "if p_value_a > 0.05:\n",
    "    print(\"The test presented with 95% confidence that the data behaved like a normal distribution.\")\n",
    "else:\n",
    "    print(\"The test presented with 95% confidence that the data did not behave like a normal distribution.\")"
   ]
  },
  {
   "cell_type": "markdown",
   "id": "4487032a",
   "metadata": {},
   "source": [
    "### Column B"
   ]
  },
  {
   "cell_type": "code",
   "execution_count": 7,
   "id": "09b5fd17",
   "metadata": {},
   "outputs": [
    {
     "name": "stdout",
     "output_type": "stream",
     "text": [
      "124.35\n",
      "3.099596747965772\n"
     ]
    }
   ],
   "source": [
    "average_b = np.mean(b)\n",
    "print(average_b)\n",
    "standard_deviation_b = np.std(b-1)\n",
    "print(standard_deviation_b)"
   ]
  },
  {
   "cell_type": "code",
   "execution_count": 8,
   "id": "10c69b65",
   "metadata": {},
   "outputs": [
    {
     "name": "stdout",
     "output_type": "stream",
     "text": [
      "0.11841493542151565\n",
      "0.11156453032856506\n"
     ]
    }
   ],
   "source": [
    "test_value_b, p_value_b = stats.kstest(b, cdf='norm', args=(average_b, standard_deviation_b), N=len(b))\n",
    "print(test_value_b)\n",
    "print(p_value_b)"
   ]
  },
  {
   "cell_type": "code",
   "execution_count": 9,
   "id": "dcefd0e8",
   "metadata": {},
   "outputs": [
    {
     "name": "stdout",
     "output_type": "stream",
     "text": [
      "The test presented with 95% confidence that the data behaved like a normal distribution.\n"
     ]
    }
   ],
   "source": [
    "if p_value_b > 0.05:\n",
    "    print(\"The test presented with 95% confidence that the data behaved like a normal distribution.\")\n",
    "else:\n",
    "    print(\"The test presented with 95% confidence that the data did not behave like a normal distribution.\")"
   ]
  },
  {
   "cell_type": "markdown",
   "id": "4934297d",
   "metadata": {},
   "source": [
    "### Fourth - do the Mann-Whitney test for two samples independent"
   ]
  },
  {
   "cell_type": "code",
   "execution_count": 10,
   "id": "09df98d3",
   "metadata": {},
   "outputs": [
    {
     "name": "stdout",
     "output_type": "stream",
     "text": [
      "The test value Wilcoxon to samples related = 0.0\n",
      "The p_value Wilcoxon to samples related = 2.1193240158895103e-34\n"
     ]
    }
   ],
   "source": [
    "res = mannwhitneyu(a, b, alternative=\"two-sided\", axis=0, method=\"asymptotic\")\n",
    "print (\"The test value Wilcoxon to samples related = \" + str(res.statistic))\n",
    "print (\"The p_value Wilcoxon to samples related = \" + str(res.pvalue))"
   ]
  },
  {
   "cell_type": "markdown",
   "id": "8766cd2e",
   "metadata": {},
   "source": [
    "### Conclusion"
   ]
  },
  {
   "cell_type": "code",
   "execution_count": 12,
   "id": "4c0877e5",
   "metadata": {},
   "outputs": [
    {
     "name": "stdout",
     "output_type": "stream",
     "text": [
      "As the p-value was below 0.05, we must reject the null hypothesis and accept the hypothesis alternative.\n"
     ]
    }
   ],
   "source": [
    "if res.pvalue < 0.05:\n",
    "    print(\"As the p-value was below 0.05, we must reject the null hypothesis and accept the hypothesis alternative.\")\n",
    "else:\n",
    "    print(\"Since the p-value was above 0.05, we must accept the null hypothesis and reject the alternative hypothesis.\")"
   ]
  },
  {
   "cell_type": "code",
   "execution_count": null,
   "id": "fb5b74b7",
   "metadata": {},
   "outputs": [],
   "source": []
  }
 ],
 "metadata": {
  "kernelspec": {
   "display_name": "Python 3 (ipykernel)",
   "language": "python",
   "name": "python3"
  },
  "language_info": {
   "codemirror_mode": {
    "name": "ipython",
    "version": 3
   },
   "file_extension": ".py",
   "mimetype": "text/x-python",
   "name": "python",
   "nbconvert_exporter": "python",
   "pygments_lexer": "ipython3",
   "version": "3.9.7"
  }
 },
 "nbformat": 4,
 "nbformat_minor": 5
}
